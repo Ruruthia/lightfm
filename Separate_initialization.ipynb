{
 "cells": [
  {
   "cell_type": "code",
   "execution_count": 1,
   "metadata": {
    "collapsed": true
   },
   "outputs": [],
   "source": [
    "import pickle\n",
    "\n",
    "import numpy as np\n",
    "import pandas as pd\n",
    "import scipy.sparse\n",
    "import scipy.sparse\n",
    "\n",
    "from lightfm import LightFM"
   ]
  },
  {
   "cell_type": "code",
   "execution_count": 2,
   "outputs": [],
   "source": [
    "df = pd.read_parquet('/pio/scratch/1/recommender_systems/processed/amazon-clothes/5-core/train.parquet')\n",
    "test_df = pd.read_parquet('/pio/scratch/1/recommender_systems/processed/amazon-clothes/5-core/test.parquet')\n",
    "categories = pd.read_json('/pio/scratch/1/recommender_systems/interim/Amazon/meta_Clothing_Shoes_and_Jewelry_categories.json', lines=True)"
   ],
   "metadata": {
    "collapsed": false,
    "pycharm": {
     "name": "#%%\n"
    }
   }
  },
  {
   "cell_type": "code",
   "execution_count": 3,
   "outputs": [],
   "source": [
    "interactions = scipy.sparse.load_npz('/pio/scratch/1/i313924/data/lightfm_data/5_core_interactions.npz')\n",
    "test_interactions = scipy.sparse.load_npz('/pio/scratch/1/i313924/data/lightfm_data/5_core_test_interactions.npz')\n",
    "dataset = pd.read_pickle('/pio/scratch/1/i313924/data/lightfm_data/5_core_dataset.pkl')"
   ],
   "metadata": {
    "collapsed": false,
    "pycharm": {
     "name": "#%%\n"
    }
   }
  },
  {
   "cell_type": "code",
   "execution_count": 4,
   "outputs": [],
   "source": [
    "items = df['asin'].drop_duplicates()\n",
    "item_mapping = dataset.mapping()[2]\n",
    "items_categories = categories[categories.asin.isin(items)].drop_duplicates()\n",
    "num_categories = len(categories.category_1.unique())"
   ],
   "metadata": {
    "collapsed": false,
    "pycharm": {
     "name": "#%%\n"
    }
   }
  },
  {
   "cell_type": "code",
   "execution_count": 5,
   "outputs": [],
   "source": [
    "# https://math.stackexchange.com/questions/117164/calculate-coordinates-of-a-regular-polygon?rq=1\n",
    "all_embeddings = pd.DataFrame()\n",
    "for i, (group, data) in enumerate(items_categories.groupby(['category_1'])):\n",
    "    embeddings = pd.DataFrame(np.random.normal(0.0, 0.5, (len(data), 100)))\n",
    "    embeddings[[i + num_categories*j for j in range(100//num_categories)]] = np.random.normal(1.0, 0.5, (len(data), 1))\n",
    "    embeddings.index = data['asin']\n",
    "    all_embeddings = pd.concat([all_embeddings, embeddings])"
   ],
   "metadata": {
    "collapsed": false,
    "pycharm": {
     "name": "#%%\n"
    }
   }
  },
  {
   "cell_type": "code",
   "execution_count": 6,
   "outputs": [],
   "source": [
    "without_category = set(items) - set(all_embeddings.index)"
   ],
   "metadata": {
    "collapsed": false,
    "pycharm": {
     "name": "#%%\n"
    }
   }
  },
  {
   "cell_type": "code",
   "execution_count": 8,
   "outputs": [
    {
     "ename": "KeyError",
     "evalue": "\"None of [Index(['B004NNJ1ZU', 'B00AZOQFLE'], dtype='object', name='asin')] are in the [index]\"",
     "output_type": "error",
     "traceback": [
      "\u001B[0;31m---------------------------------------------------------------------------\u001B[0m",
      "\u001B[0;31mKeyError\u001B[0m                                  Traceback (most recent call last)",
      "\u001B[0;32m<ipython-input-8-1bea0303e8f2>\u001B[0m in \u001B[0;36m<module>\u001B[0;34m\u001B[0m\n\u001B[0;32m----> 1\u001B[0;31m \u001B[0mall_embeddings\u001B[0m\u001B[0;34m.\u001B[0m\u001B[0mloc\u001B[0m\u001B[0;34m[\u001B[0m\u001B[0mwithout_category\u001B[0m\u001B[0;34m]\u001B[0m \u001B[0;34m=\u001B[0m \u001B[0mnp\u001B[0m\u001B[0;34m.\u001B[0m\u001B[0mrandom\u001B[0m\u001B[0;34m.\u001B[0m\u001B[0mnormal\u001B[0m\u001B[0;34m(\u001B[0m\u001B[0;36m0.0\u001B[0m\u001B[0;34m,\u001B[0m \u001B[0;36m0.5\u001B[0m\u001B[0;34m,\u001B[0m \u001B[0;34m(\u001B[0m\u001B[0mlen\u001B[0m\u001B[0;34m(\u001B[0m\u001B[0mwithout_category\u001B[0m\u001B[0;34m)\u001B[0m\u001B[0;34m,\u001B[0m \u001B[0;36m100\u001B[0m\u001B[0;34m)\u001B[0m\u001B[0;34m)\u001B[0m\u001B[0;34m\u001B[0m\u001B[0;34m\u001B[0m\u001B[0m\n\u001B[0m",
      "\u001B[0;32m/pio/scratch/1/i313924/miniconda3/envs/venv/lib/python3.6/site-packages/pandas/core/indexing.py\u001B[0m in \u001B[0;36m__setitem__\u001B[0;34m(self, key, value)\u001B[0m\n\u001B[1;32m    664\u001B[0m         \u001B[0;32melse\u001B[0m\u001B[0;34m:\u001B[0m\u001B[0;34m\u001B[0m\u001B[0;34m\u001B[0m\u001B[0m\n\u001B[1;32m    665\u001B[0m             \u001B[0mkey\u001B[0m \u001B[0;34m=\u001B[0m \u001B[0mcom\u001B[0m\u001B[0;34m.\u001B[0m\u001B[0mapply_if_callable\u001B[0m\u001B[0;34m(\u001B[0m\u001B[0mkey\u001B[0m\u001B[0;34m,\u001B[0m \u001B[0mself\u001B[0m\u001B[0;34m.\u001B[0m\u001B[0mobj\u001B[0m\u001B[0;34m)\u001B[0m\u001B[0;34m\u001B[0m\u001B[0;34m\u001B[0m\u001B[0m\n\u001B[0;32m--> 666\u001B[0;31m         \u001B[0mindexer\u001B[0m \u001B[0;34m=\u001B[0m \u001B[0mself\u001B[0m\u001B[0;34m.\u001B[0m\u001B[0m_get_setitem_indexer\u001B[0m\u001B[0;34m(\u001B[0m\u001B[0mkey\u001B[0m\u001B[0;34m)\u001B[0m\u001B[0;34m\u001B[0m\u001B[0;34m\u001B[0m\u001B[0m\n\u001B[0m\u001B[1;32m    667\u001B[0m         \u001B[0mself\u001B[0m\u001B[0;34m.\u001B[0m\u001B[0m_has_valid_setitem_indexer\u001B[0m\u001B[0;34m(\u001B[0m\u001B[0mkey\u001B[0m\u001B[0;34m)\u001B[0m\u001B[0;34m\u001B[0m\u001B[0;34m\u001B[0m\u001B[0m\n\u001B[1;32m    668\u001B[0m \u001B[0;34m\u001B[0m\u001B[0m\n",
      "\u001B[0;32m/pio/scratch/1/i313924/miniconda3/envs/venv/lib/python3.6/site-packages/pandas/core/indexing.py\u001B[0m in \u001B[0;36m_get_setitem_indexer\u001B[0;34m(self, key)\u001B[0m\n\u001B[1;32m    615\u001B[0m \u001B[0;34m\u001B[0m\u001B[0m\n\u001B[1;32m    616\u001B[0m         \u001B[0;32mtry\u001B[0m\u001B[0;34m:\u001B[0m\u001B[0;34m\u001B[0m\u001B[0;34m\u001B[0m\u001B[0m\n\u001B[0;32m--> 617\u001B[0;31m             \u001B[0;32mreturn\u001B[0m \u001B[0mself\u001B[0m\u001B[0;34m.\u001B[0m\u001B[0m_convert_to_indexer\u001B[0m\u001B[0;34m(\u001B[0m\u001B[0mkey\u001B[0m\u001B[0;34m,\u001B[0m \u001B[0maxis\u001B[0m\u001B[0;34m=\u001B[0m\u001B[0;36m0\u001B[0m\u001B[0;34m,\u001B[0m \u001B[0mis_setter\u001B[0m\u001B[0;34m=\u001B[0m\u001B[0;32mTrue\u001B[0m\u001B[0;34m)\u001B[0m\u001B[0;34m\u001B[0m\u001B[0;34m\u001B[0m\u001B[0m\n\u001B[0m\u001B[1;32m    618\u001B[0m         \u001B[0;32mexcept\u001B[0m \u001B[0mTypeError\u001B[0m \u001B[0;32mas\u001B[0m \u001B[0me\u001B[0m\u001B[0;34m:\u001B[0m\u001B[0;34m\u001B[0m\u001B[0;34m\u001B[0m\u001B[0m\n\u001B[1;32m    619\u001B[0m \u001B[0;34m\u001B[0m\u001B[0m\n",
      "\u001B[0;32m/pio/scratch/1/i313924/miniconda3/envs/venv/lib/python3.6/site-packages/pandas/core/indexing.py\u001B[0m in \u001B[0;36m_convert_to_indexer\u001B[0;34m(self, key, axis, is_setter)\u001B[0m\n\u001B[1;32m   1196\u001B[0m             \u001B[0;32melse\u001B[0m\u001B[0;34m:\u001B[0m\u001B[0;34m\u001B[0m\u001B[0;34m\u001B[0m\u001B[0m\n\u001B[1;32m   1197\u001B[0m                 \u001B[0;31m# When setting, missing keys are not allowed, even with .loc:\u001B[0m\u001B[0;34m\u001B[0m\u001B[0;34m\u001B[0m\u001B[0;34m\u001B[0m\u001B[0m\n\u001B[0;32m-> 1198\u001B[0;31m                 \u001B[0;32mreturn\u001B[0m \u001B[0mself\u001B[0m\u001B[0;34m.\u001B[0m\u001B[0m_get_listlike_indexer\u001B[0m\u001B[0;34m(\u001B[0m\u001B[0mkey\u001B[0m\u001B[0;34m,\u001B[0m \u001B[0maxis\u001B[0m\u001B[0;34m,\u001B[0m \u001B[0mraise_missing\u001B[0m\u001B[0;34m=\u001B[0m\u001B[0;32mTrue\u001B[0m\u001B[0;34m)\u001B[0m\u001B[0;34m[\u001B[0m\u001B[0;36m1\u001B[0m\u001B[0;34m]\u001B[0m\u001B[0;34m\u001B[0m\u001B[0;34m\u001B[0m\u001B[0m\n\u001B[0m\u001B[1;32m   1199\u001B[0m         \u001B[0;32melse\u001B[0m\u001B[0;34m:\u001B[0m\u001B[0;34m\u001B[0m\u001B[0;34m\u001B[0m\u001B[0m\n\u001B[1;32m   1200\u001B[0m             \u001B[0;32mtry\u001B[0m\u001B[0;34m:\u001B[0m\u001B[0;34m\u001B[0m\u001B[0;34m\u001B[0m\u001B[0m\n",
      "\u001B[0;32m/pio/scratch/1/i313924/miniconda3/envs/venv/lib/python3.6/site-packages/pandas/core/indexing.py\u001B[0m in \u001B[0;36m_get_listlike_indexer\u001B[0;34m(self, key, axis, raise_missing)\u001B[0m\n\u001B[1;32m   1252\u001B[0m             \u001B[0mkeyarr\u001B[0m\u001B[0;34m,\u001B[0m \u001B[0mindexer\u001B[0m\u001B[0;34m,\u001B[0m \u001B[0mnew_indexer\u001B[0m \u001B[0;34m=\u001B[0m \u001B[0max\u001B[0m\u001B[0;34m.\u001B[0m\u001B[0m_reindex_non_unique\u001B[0m\u001B[0;34m(\u001B[0m\u001B[0mkeyarr\u001B[0m\u001B[0;34m)\u001B[0m\u001B[0;34m\u001B[0m\u001B[0;34m\u001B[0m\u001B[0m\n\u001B[1;32m   1253\u001B[0m \u001B[0;34m\u001B[0m\u001B[0m\n\u001B[0;32m-> 1254\u001B[0;31m         \u001B[0mself\u001B[0m\u001B[0;34m.\u001B[0m\u001B[0m_validate_read_indexer\u001B[0m\u001B[0;34m(\u001B[0m\u001B[0mkeyarr\u001B[0m\u001B[0;34m,\u001B[0m \u001B[0mindexer\u001B[0m\u001B[0;34m,\u001B[0m \u001B[0maxis\u001B[0m\u001B[0;34m,\u001B[0m \u001B[0mraise_missing\u001B[0m\u001B[0;34m=\u001B[0m\u001B[0mraise_missing\u001B[0m\u001B[0;34m)\u001B[0m\u001B[0;34m\u001B[0m\u001B[0;34m\u001B[0m\u001B[0m\n\u001B[0m\u001B[1;32m   1255\u001B[0m         \u001B[0;32mreturn\u001B[0m \u001B[0mkeyarr\u001B[0m\u001B[0;34m,\u001B[0m \u001B[0mindexer\u001B[0m\u001B[0;34m\u001B[0m\u001B[0;34m\u001B[0m\u001B[0m\n\u001B[1;32m   1256\u001B[0m \u001B[0;34m\u001B[0m\u001B[0m\n",
      "\u001B[0;32m/pio/scratch/1/i313924/miniconda3/envs/venv/lib/python3.6/site-packages/pandas/core/indexing.py\u001B[0m in \u001B[0;36m_validate_read_indexer\u001B[0;34m(self, key, indexer, axis, raise_missing)\u001B[0m\n\u001B[1;32m   1296\u001B[0m             \u001B[0;32mif\u001B[0m \u001B[0mmissing\u001B[0m \u001B[0;34m==\u001B[0m \u001B[0mlen\u001B[0m\u001B[0;34m(\u001B[0m\u001B[0mindexer\u001B[0m\u001B[0;34m)\u001B[0m\u001B[0;34m:\u001B[0m\u001B[0;34m\u001B[0m\u001B[0;34m\u001B[0m\u001B[0m\n\u001B[1;32m   1297\u001B[0m                 \u001B[0maxis_name\u001B[0m \u001B[0;34m=\u001B[0m \u001B[0mself\u001B[0m\u001B[0;34m.\u001B[0m\u001B[0mobj\u001B[0m\u001B[0;34m.\u001B[0m\u001B[0m_get_axis_name\u001B[0m\u001B[0;34m(\u001B[0m\u001B[0maxis\u001B[0m\u001B[0;34m)\u001B[0m\u001B[0;34m\u001B[0m\u001B[0;34m\u001B[0m\u001B[0m\n\u001B[0;32m-> 1298\u001B[0;31m                 \u001B[0;32mraise\u001B[0m \u001B[0mKeyError\u001B[0m\u001B[0;34m(\u001B[0m\u001B[0;34mf\"None of [{key}] are in the [{axis_name}]\"\u001B[0m\u001B[0;34m)\u001B[0m\u001B[0;34m\u001B[0m\u001B[0;34m\u001B[0m\u001B[0m\n\u001B[0m\u001B[1;32m   1299\u001B[0m \u001B[0;34m\u001B[0m\u001B[0m\n\u001B[1;32m   1300\u001B[0m             \u001B[0;31m# We (temporarily) allow for some missing keys with .loc, except in\u001B[0m\u001B[0;34m\u001B[0m\u001B[0;34m\u001B[0m\u001B[0;34m\u001B[0m\u001B[0m\n",
      "\u001B[0;31mKeyError\u001B[0m: \"None of [Index(['B004NNJ1ZU', 'B00AZOQFLE'], dtype='object', name='asin')] are in the [index]\""
     ]
    }
   ],
   "source": [
    "all_embeddings[without_category] = np.random.normal(0.0, 0.5, (len(without_category), 100))"
   ],
   "metadata": {
    "collapsed": false,
    "pycharm": {
     "name": "#%%\n"
    }
   }
  },
  {
   "cell_type": "code",
   "execution_count": 24,
   "outputs": [],
   "source": [
    "word2vec_embeddings = pd.read_parquet('/pio/scratch/1/recommender_systems/processed/word2vec/amazon-clothes/5-core/item_item_embeddings.parquet')"
   ],
   "metadata": {
    "collapsed": false,
    "pycharm": {
     "name": "#%%\n"
    }
   }
  },
  {
   "cell_type": "code",
   "execution_count": 41,
   "outputs": [
    {
     "data": {
      "text/plain": "                   0         1         2         3         4         5  \\\nindex                                                                    \nB00SU52460 -0.078735  0.031405  0.057666  0.090253  0.055262  0.004454   \nB00STBRT9M -0.068344  0.023045  0.061581  0.102385  0.074816  0.014265   \nB00SU5244M -0.075733  0.023512  0.059046  0.085086  0.056547  0.011237   \nB00WRGPHY4 -0.072343  0.012610  0.053967  0.094973  0.055312  0.006420   \nB00V6K7P0G -0.063687  0.027942  0.054714  0.093803  0.067540 -0.003258   \n...              ...       ...       ...       ...       ...       ...   \nB00EVWCKGK -0.009977  0.114948  0.026678  0.038227  0.067839 -0.124184   \nB019T96K7Y -0.012741  0.075559  0.031464  0.040446  0.022506 -0.156780   \nB00Q1O4BQI  0.004234  0.083226  0.014779  0.080230  0.023185 -0.120007   \nB0087DXEW8 -0.021674  0.073881  0.014785  0.030988  0.050229 -0.122902   \nB00HWQNFZM -0.008637  0.090850  0.018336  0.060426  0.054338 -0.133097   \n\n                   6         7         8         9  ...        90        91  \\\nindex                                               ...                       \nB00SU52460  0.068138  0.140214 -0.160675 -0.001144  ... -0.028228 -0.120070   \nB00STBRT9M  0.068359  0.128264 -0.166192 -0.011253  ... -0.026627 -0.105604   \nB00SU5244M  0.074188  0.118348 -0.144083 -0.033818  ... -0.030343 -0.120872   \nB00WRGPHY4  0.070272  0.129301 -0.158411 -0.018321  ... -0.036316 -0.110264   \nB00V6K7P0G  0.080216  0.139799 -0.150908 -0.019819  ... -0.017860 -0.111070   \n...              ...       ...       ...       ...  ...       ...       ...   \nB00EVWCKGK  0.146636  0.247998 -0.134573 -0.112451  ...  0.162464  0.008654   \nB019T96K7Y  0.026824  0.282930 -0.168034 -0.121483  ...  0.157675 -0.015005   \nB00Q1O4BQI  0.155374  0.236055 -0.146596 -0.120077  ...  0.122532 -0.004304   \nB0087DXEW8  0.105506  0.210099 -0.158622 -0.153365  ...  0.111065  0.056616   \nB00HWQNFZM  0.132497  0.218774 -0.143452 -0.114978  ...  0.125210 -0.012576   \n\n                  92        93        94        95        96        97  \\\nindex                                                                    \nB00SU52460 -0.141606 -0.066599  0.224218 -0.110949  0.103306 -0.067999   \nB00STBRT9M -0.149194 -0.069288  0.214240 -0.120073  0.093751 -0.074356   \nB00SU5244M -0.117350 -0.074961  0.228749 -0.112058  0.121153 -0.060023   \nB00WRGPHY4 -0.128595 -0.070194  0.231627 -0.117734  0.111027 -0.080635   \nB00V6K7P0G -0.136759 -0.065150  0.219500 -0.126879  0.110436 -0.077520   \n...              ...       ...       ...       ...       ...       ...   \nB00EVWCKGK -0.039211 -0.000062  0.206180 -0.016075  0.065916 -0.071067   \nB019T96K7Y -0.056732 -0.096309  0.183719 -0.005037  0.041290 -0.012217   \nB00Q1O4BQI -0.033180 -0.010378  0.234828 -0.030729  0.090226 -0.060556   \nB0087DXEW8 -0.071574 -0.025645  0.198892 -0.000518  0.115308 -0.071822   \nB00HWQNFZM -0.060314 -0.030525  0.220940 -0.044699  0.098995 -0.093853   \n\n                  98        99  \nindex                           \nB00SU52460  0.113143  0.087766  \nB00STBRT9M  0.106935  0.087801  \nB00SU5244M  0.108016  0.094660  \nB00WRGPHY4  0.110474  0.094160  \nB00V6K7P0G  0.109715  0.083321  \n...              ...       ...  \nB00EVWCKGK  0.019635  0.025326  \nB019T96K7Y  0.058867  0.020988  \nB00Q1O4BQI  0.000169  0.009621  \nB0087DXEW8  0.028719  0.019632  \nB00HWQNFZM  0.019382  0.000701  \n\n[242400 rows x 100 columns]",
      "text/html": "<div>\n<style scoped>\n    .dataframe tbody tr th:only-of-type {\n        vertical-align: middle;\n    }\n\n    .dataframe tbody tr th {\n        vertical-align: top;\n    }\n\n    .dataframe thead th {\n        text-align: right;\n    }\n</style>\n<table border=\"1\" class=\"dataframe\">\n  <thead>\n    <tr style=\"text-align: right;\">\n      <th></th>\n      <th>0</th>\n      <th>1</th>\n      <th>2</th>\n      <th>3</th>\n      <th>4</th>\n      <th>5</th>\n      <th>6</th>\n      <th>7</th>\n      <th>8</th>\n      <th>9</th>\n      <th>...</th>\n      <th>90</th>\n      <th>91</th>\n      <th>92</th>\n      <th>93</th>\n      <th>94</th>\n      <th>95</th>\n      <th>96</th>\n      <th>97</th>\n      <th>98</th>\n      <th>99</th>\n    </tr>\n    <tr>\n      <th>index</th>\n      <th></th>\n      <th></th>\n      <th></th>\n      <th></th>\n      <th></th>\n      <th></th>\n      <th></th>\n      <th></th>\n      <th></th>\n      <th></th>\n      <th></th>\n      <th></th>\n      <th></th>\n      <th></th>\n      <th></th>\n      <th></th>\n      <th></th>\n      <th></th>\n      <th></th>\n      <th></th>\n      <th></th>\n    </tr>\n  </thead>\n  <tbody>\n    <tr>\n      <th>B00SU52460</th>\n      <td>-0.078735</td>\n      <td>0.031405</td>\n      <td>0.057666</td>\n      <td>0.090253</td>\n      <td>0.055262</td>\n      <td>0.004454</td>\n      <td>0.068138</td>\n      <td>0.140214</td>\n      <td>-0.160675</td>\n      <td>-0.001144</td>\n      <td>...</td>\n      <td>-0.028228</td>\n      <td>-0.120070</td>\n      <td>-0.141606</td>\n      <td>-0.066599</td>\n      <td>0.224218</td>\n      <td>-0.110949</td>\n      <td>0.103306</td>\n      <td>-0.067999</td>\n      <td>0.113143</td>\n      <td>0.087766</td>\n    </tr>\n    <tr>\n      <th>B00STBRT9M</th>\n      <td>-0.068344</td>\n      <td>0.023045</td>\n      <td>0.061581</td>\n      <td>0.102385</td>\n      <td>0.074816</td>\n      <td>0.014265</td>\n      <td>0.068359</td>\n      <td>0.128264</td>\n      <td>-0.166192</td>\n      <td>-0.011253</td>\n      <td>...</td>\n      <td>-0.026627</td>\n      <td>-0.105604</td>\n      <td>-0.149194</td>\n      <td>-0.069288</td>\n      <td>0.214240</td>\n      <td>-0.120073</td>\n      <td>0.093751</td>\n      <td>-0.074356</td>\n      <td>0.106935</td>\n      <td>0.087801</td>\n    </tr>\n    <tr>\n      <th>B00SU5244M</th>\n      <td>-0.075733</td>\n      <td>0.023512</td>\n      <td>0.059046</td>\n      <td>0.085086</td>\n      <td>0.056547</td>\n      <td>0.011237</td>\n      <td>0.074188</td>\n      <td>0.118348</td>\n      <td>-0.144083</td>\n      <td>-0.033818</td>\n      <td>...</td>\n      <td>-0.030343</td>\n      <td>-0.120872</td>\n      <td>-0.117350</td>\n      <td>-0.074961</td>\n      <td>0.228749</td>\n      <td>-0.112058</td>\n      <td>0.121153</td>\n      <td>-0.060023</td>\n      <td>0.108016</td>\n      <td>0.094660</td>\n    </tr>\n    <tr>\n      <th>B00WRGPHY4</th>\n      <td>-0.072343</td>\n      <td>0.012610</td>\n      <td>0.053967</td>\n      <td>0.094973</td>\n      <td>0.055312</td>\n      <td>0.006420</td>\n      <td>0.070272</td>\n      <td>0.129301</td>\n      <td>-0.158411</td>\n      <td>-0.018321</td>\n      <td>...</td>\n      <td>-0.036316</td>\n      <td>-0.110264</td>\n      <td>-0.128595</td>\n      <td>-0.070194</td>\n      <td>0.231627</td>\n      <td>-0.117734</td>\n      <td>0.111027</td>\n      <td>-0.080635</td>\n      <td>0.110474</td>\n      <td>0.094160</td>\n    </tr>\n    <tr>\n      <th>B00V6K7P0G</th>\n      <td>-0.063687</td>\n      <td>0.027942</td>\n      <td>0.054714</td>\n      <td>0.093803</td>\n      <td>0.067540</td>\n      <td>-0.003258</td>\n      <td>0.080216</td>\n      <td>0.139799</td>\n      <td>-0.150908</td>\n      <td>-0.019819</td>\n      <td>...</td>\n      <td>-0.017860</td>\n      <td>-0.111070</td>\n      <td>-0.136759</td>\n      <td>-0.065150</td>\n      <td>0.219500</td>\n      <td>-0.126879</td>\n      <td>0.110436</td>\n      <td>-0.077520</td>\n      <td>0.109715</td>\n      <td>0.083321</td>\n    </tr>\n    <tr>\n      <th>...</th>\n      <td>...</td>\n      <td>...</td>\n      <td>...</td>\n      <td>...</td>\n      <td>...</td>\n      <td>...</td>\n      <td>...</td>\n      <td>...</td>\n      <td>...</td>\n      <td>...</td>\n      <td>...</td>\n      <td>...</td>\n      <td>...</td>\n      <td>...</td>\n      <td>...</td>\n      <td>...</td>\n      <td>...</td>\n      <td>...</td>\n      <td>...</td>\n      <td>...</td>\n      <td>...</td>\n    </tr>\n    <tr>\n      <th>B00EVWCKGK</th>\n      <td>-0.009977</td>\n      <td>0.114948</td>\n      <td>0.026678</td>\n      <td>0.038227</td>\n      <td>0.067839</td>\n      <td>-0.124184</td>\n      <td>0.146636</td>\n      <td>0.247998</td>\n      <td>-0.134573</td>\n      <td>-0.112451</td>\n      <td>...</td>\n      <td>0.162464</td>\n      <td>0.008654</td>\n      <td>-0.039211</td>\n      <td>-0.000062</td>\n      <td>0.206180</td>\n      <td>-0.016075</td>\n      <td>0.065916</td>\n      <td>-0.071067</td>\n      <td>0.019635</td>\n      <td>0.025326</td>\n    </tr>\n    <tr>\n      <th>B019T96K7Y</th>\n      <td>-0.012741</td>\n      <td>0.075559</td>\n      <td>0.031464</td>\n      <td>0.040446</td>\n      <td>0.022506</td>\n      <td>-0.156780</td>\n      <td>0.026824</td>\n      <td>0.282930</td>\n      <td>-0.168034</td>\n      <td>-0.121483</td>\n      <td>...</td>\n      <td>0.157675</td>\n      <td>-0.015005</td>\n      <td>-0.056732</td>\n      <td>-0.096309</td>\n      <td>0.183719</td>\n      <td>-0.005037</td>\n      <td>0.041290</td>\n      <td>-0.012217</td>\n      <td>0.058867</td>\n      <td>0.020988</td>\n    </tr>\n    <tr>\n      <th>B00Q1O4BQI</th>\n      <td>0.004234</td>\n      <td>0.083226</td>\n      <td>0.014779</td>\n      <td>0.080230</td>\n      <td>0.023185</td>\n      <td>-0.120007</td>\n      <td>0.155374</td>\n      <td>0.236055</td>\n      <td>-0.146596</td>\n      <td>-0.120077</td>\n      <td>...</td>\n      <td>0.122532</td>\n      <td>-0.004304</td>\n      <td>-0.033180</td>\n      <td>-0.010378</td>\n      <td>0.234828</td>\n      <td>-0.030729</td>\n      <td>0.090226</td>\n      <td>-0.060556</td>\n      <td>0.000169</td>\n      <td>0.009621</td>\n    </tr>\n    <tr>\n      <th>B0087DXEW8</th>\n      <td>-0.021674</td>\n      <td>0.073881</td>\n      <td>0.014785</td>\n      <td>0.030988</td>\n      <td>0.050229</td>\n      <td>-0.122902</td>\n      <td>0.105506</td>\n      <td>0.210099</td>\n      <td>-0.158622</td>\n      <td>-0.153365</td>\n      <td>...</td>\n      <td>0.111065</td>\n      <td>0.056616</td>\n      <td>-0.071574</td>\n      <td>-0.025645</td>\n      <td>0.198892</td>\n      <td>-0.000518</td>\n      <td>0.115308</td>\n      <td>-0.071822</td>\n      <td>0.028719</td>\n      <td>0.019632</td>\n    </tr>\n    <tr>\n      <th>B00HWQNFZM</th>\n      <td>-0.008637</td>\n      <td>0.090850</td>\n      <td>0.018336</td>\n      <td>0.060426</td>\n      <td>0.054338</td>\n      <td>-0.133097</td>\n      <td>0.132497</td>\n      <td>0.218774</td>\n      <td>-0.143452</td>\n      <td>-0.114978</td>\n      <td>...</td>\n      <td>0.125210</td>\n      <td>-0.012576</td>\n      <td>-0.060314</td>\n      <td>-0.030525</td>\n      <td>0.220940</td>\n      <td>-0.044699</td>\n      <td>0.098995</td>\n      <td>-0.093853</td>\n      <td>0.019382</td>\n      <td>0.000701</td>\n    </tr>\n  </tbody>\n</table>\n<p>242400 rows × 100 columns</p>\n</div>"
     },
     "execution_count": 41,
     "metadata": {},
     "output_type": "execute_result"
    }
   ],
   "source": [
    "word2vec_embeddings"
   ],
   "metadata": {
    "collapsed": false,
    "pycharm": {
     "name": "#%%\n"
    }
   }
  },
  {
   "cell_type": "code",
   "execution_count": 5,
   "outputs": [],
   "source": [
    "item_mapping = dataset.mapping()[2]\n",
    "word2vec_embeddings = word2vec_embeddings.rename(index=item_mapping)\n",
    "word2vec_embeddings = word2vec_embeddings.sort_index()"
   ],
   "metadata": {
    "collapsed": false,
    "pycharm": {
     "name": "#%%\n"
    }
   }
  },
  {
   "cell_type": "code",
   "execution_count": 6,
   "outputs": [],
   "source": [
    "items = df['asin'].drop_duplicates()\n",
    "item_mapping = dataset.mapping()[2]\n",
    "items_categories = categories[categories.asin.isin(items)]\n",
    "women_ids = items_categories[items_categories['category_1'] == 'Women']['asin'].unique()\n",
    "women_ids = [item_mapping[id] for id in women_ids]\n",
    "men_ids = items_categories[items_categories['category_1'] == 'Men']['asin'].unique()\n",
    "men_ids = [item_mapping[id] for id in men_ids]"
   ],
   "metadata": {
    "collapsed": false,
    "pycharm": {
     "name": "#%%\n"
    }
   }
  },
  {
   "cell_type": "code",
   "execution_count": 7,
   "outputs": [
    {
     "ename": "TypeError",
     "evalue": "__init__() got an unexpected keyword argument 'women_ids'",
     "output_type": "error",
     "traceback": [
      "\u001B[0;31m---------------------------------------------------------------------------\u001B[0m",
      "\u001B[0;31mTypeError\u001B[0m                                 Traceback (most recent call last)",
      "\u001B[0;32m<ipython-input-7-0aeefc2d7591>\u001B[0m in \u001B[0;36m<module>\u001B[0;34m\u001B[0m\n\u001B[0;32m----> 1\u001B[0;31m \u001B[0mmodel\u001B[0m \u001B[0;34m=\u001B[0m \u001B[0mLightFM\u001B[0m\u001B[0;34m(\u001B[0m\u001B[0mno_components\u001B[0m\u001B[0;34m=\u001B[0m\u001B[0;36m100\u001B[0m\u001B[0;34m,\u001B[0m \u001B[0mlearning_schedule\u001B[0m\u001B[0;34m=\u001B[0m\u001B[0;34m'adadelta'\u001B[0m\u001B[0;34m,\u001B[0m \u001B[0mloss\u001B[0m\u001B[0;34m=\u001B[0m\u001B[0;34m'warp'\u001B[0m\u001B[0;34m,\u001B[0m \u001B[0mwomen_ids\u001B[0m\u001B[0;34m=\u001B[0m\u001B[0mwomen_ids\u001B[0m\u001B[0;34m,\u001B[0m \u001B[0mmen_ids\u001B[0m\u001B[0;34m=\u001B[0m\u001B[0mmen_ids\u001B[0m\u001B[0;34m)\u001B[0m\u001B[0;34m\u001B[0m\u001B[0;34m\u001B[0m\u001B[0m\n\u001B[0m",
      "\u001B[0;31mTypeError\u001B[0m: __init__() got an unexpected keyword argument 'women_ids'"
     ]
    }
   ],
   "source": [
    "model = LightFM(no_components=100, learning_schedule='adadelta', loss='warp', women_ids=women_ids, men_ids=men_ids)"
   ],
   "metadata": {
    "collapsed": false,
    "pycharm": {
     "name": "#%%\n"
    }
   }
  },
  {
   "cell_type": "code",
   "execution_count": null,
   "outputs": [],
   "source": [
    "num_epochs = [5, 25, 50, 250, 500, 1000, 1500]\n",
    "remaining = [num_epochs[0]] + [num_epochs[i] - num_epochs[i-1] for i in range(1, len(num_epochs))]\n",
    "for i, epochs in enumerate(num_epochs):\n",
    "    # model.fit_partial(interactions, verbose=True, epochs=remaining[i], num_threads=8, word2vec_embeddings=word2vec_embeddings.values)\n",
    "    model.fit_partial(interactions, verbose=True, epochs=remaining[i], num_threads=8)\n",
    "    pickle.dump(model, open(f'/pio/scratch/1/i313924/data/lightfm_data/model_{epochs}_epochs_regularized_partial.pkl', 'wb'), protocol=4)"
   ],
   "metadata": {
    "collapsed": false,
    "pycharm": {
     "name": "#%%\n"
    }
   }
  },
  {
   "cell_type": "code",
   "execution_count": null,
   "outputs": [],
   "source": [],
   "metadata": {
    "collapsed": false,
    "pycharm": {
     "name": "#%%\n"
    }
   }
  }
 ],
 "metadata": {
  "kernelspec": {
   "display_name": "Python 3",
   "language": "python",
   "name": "python3"
  },
  "language_info": {
   "codemirror_mode": {
    "name": "ipython",
    "version": 2
   },
   "file_extension": ".py",
   "mimetype": "text/x-python",
   "name": "python",
   "nbconvert_exporter": "python",
   "pygments_lexer": "ipython2",
   "version": "2.7.6"
  }
 },
 "nbformat": 4,
 "nbformat_minor": 0
}