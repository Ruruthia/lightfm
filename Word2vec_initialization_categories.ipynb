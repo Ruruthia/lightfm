{
 "cells": [
  {
   "cell_type": "code",
   "execution_count": 9,
   "metadata": {
    "collapsed": true
   },
   "outputs": [],
   "source": [
    "import pickle\n",
    "\n",
    "import pandas as pd\n",
    "import scipy.sparse\n",
    "import scipy.sparse\n",
    "\n",
    "from lightfm import LightFM\n",
    "from lightfm.data import Dataset"
   ]
  },
  {
   "cell_type": "code",
   "execution_count": 10,
   "outputs": [],
   "source": [
    "df = pd.read_parquet('/pio/scratch/1/recommender_systems/processed/amazon-clothes/5-core/train.parquet')\n",
    "test_df = pd.read_parquet('/pio/scratch/1/recommender_systems/processed/amazon-clothes/5-core/test.parquet')\n",
    "categories = pd.read_json('/pio/scratch/1/recommender_systems/interim/Amazon/meta_Clothing_Shoes_and_Jewelry_categories.json', lines=True)"
   ],
   "metadata": {
    "collapsed": false,
    "pycharm": {
     "name": "#%%\n"
    }
   }
  },
  {
   "cell_type": "code",
   "execution_count": 11,
   "outputs": [],
   "source": [
    "interactions = scipy.sparse.load_npz('/pio/scratch/1/i313924/data/lightfm_data/5_core_interactions.npz')\n",
    "test_interactions = scipy.sparse.load_npz('/pio/scratch/1/i313924/data/lightfm_data/5_core_test_interactions.npz')\n",
    "dataset = pd.read_pickle('/pio/scratch/1/i313924/data/lightfm_data/5_core_dataset_features.pkl')\n",
    "item_features = pd.read_pickle('/pio/scratch/1/i313924/data/lightfm_data/5_core_features.pkl')"
   ],
   "metadata": {
    "collapsed": false,
    "pycharm": {
     "name": "#%%\n"
    }
   }
  },
  {
   "cell_type": "code",
   "execution_count": 12,
   "outputs": [],
   "source": [
    "word2vec_embeddings = pd.read_parquet('/pio/scratch/1/i313924/data/word2vec/word2vec_240_embeddings_categories.parquet')"
   ],
   "metadata": {
    "collapsed": false,
    "pycharm": {
     "name": "#%%\n"
    }
   }
  },
  {
   "cell_type": "code",
   "execution_count": 13,
   "outputs": [
    {
     "data": {
      "text/plain": "                   0         1         2         3         4         5  \\\nWomen      -0.008189  0.022066 -0.026420  0.094180 -0.062463 -0.018453   \nMen        -0.137466 -0.094954  0.053687  0.040817 -0.008410 -0.004553   \nB00SU52460  0.080074 -0.029241 -0.012169  0.001674 -0.127657  0.031498   \nB00STBRT9M  0.006809 -0.095584 -0.066293 -0.048665  0.012165 -0.019132   \nB00SU5244M -0.163030 -0.030770 -0.039648  0.183576 -0.081303 -0.031919   \n...              ...       ...       ...       ...       ...       ...   \nB01D2H01KG  0.050055 -0.036643 -0.148640 -0.049264  0.035507 -0.154216   \nB005AR7V1Y -0.064120 -0.114724  0.044103 -0.058813 -0.012883 -0.075538   \nB00K59XJ40 -0.007995  0.010419  0.014158  0.027516 -0.011702  0.003093   \nB00HEFIHJU -0.075908 -0.026579 -0.027001  0.014267 -0.075832 -0.010865   \nB00M32N0G4 -0.154940  0.044972 -0.040357 -0.050484  0.004282 -0.045062   \n\n                   6         7         8         9  ...       230       231  \\\nWomen      -0.086254  0.094877 -0.074483 -0.057344  ...  0.049633  0.079719   \nMen         0.033081 -0.062215 -0.023763 -0.034139  ... -0.101567 -0.049388   \nB00SU52460  0.066277 -0.010632 -0.067872 -0.003321  ... -0.011278 -0.006868   \nB00STBRT9M -0.095805  0.072027 -0.033602  0.014023  ...  0.022977  0.060151   \nB00SU5244M  0.066622  0.044468  0.017939  0.003620  ...  0.044207 -0.026794   \n...              ...       ...       ...       ...  ...       ...       ...   \nB01D2H01KG  0.063264 -0.063919  0.007130  0.086678  ...  0.069495  0.052381   \nB005AR7V1Y -0.035813 -0.038642 -0.020050  0.013223  ... -0.004069  0.034750   \nB00K59XJ40 -0.003959 -0.085708 -0.091460  0.061226  ... -0.038815  0.011818   \nB00HEFIHJU -0.013595 -0.055790 -0.012770 -0.037490  ...  0.023234  0.003851   \nB00M32N0G4 -0.076283 -0.034372 -0.058239  0.066706  ...  0.044806 -0.036805   \n\n                 232       233       234       235       236       237  \\\nWomen       0.061025  0.039601  0.035771  0.017603 -0.005381 -0.062055   \nMen        -0.049279 -0.058980  0.077279 -0.012332 -0.005987 -0.026190   \nB00SU52460  0.028322  0.013549  0.053158  0.032340  0.044718 -0.016185   \nB00STBRT9M -0.096941  0.111090 -0.058104 -0.024142 -0.084117  0.068409   \nB00SU5244M -0.051534  0.063143 -0.124244 -0.021593 -0.020266  0.043678   \n...              ...       ...       ...       ...       ...       ...   \nB01D2H01KG -0.075635  0.052993 -0.032045 -0.011593 -0.033095  0.025782   \nB005AR7V1Y  0.012952  0.113518 -0.022946 -0.095672 -0.045898  0.020638   \nB00K59XJ40  0.032563  0.036898  0.072990 -0.032794  0.002982 -0.143381   \nB00HEFIHJU  0.076986  0.000565 -0.069062 -0.004645  0.098052  0.033378   \nB00M32N0G4 -0.005097  0.099899  0.010955 -0.071643 -0.012375  0.041456   \n\n                 238       239  \nWomen      -0.041591 -0.055139  \nMen        -0.077885 -0.017687  \nB00SU52460  0.061387 -0.001913  \nB00STBRT9M  0.113990 -0.040187  \nB00SU5244M -0.061697 -0.026006  \n...              ...       ...  \nB01D2H01KG -0.087101 -0.031072  \nB005AR7V1Y -0.003015 -0.032189  \nB00K59XJ40  0.034707 -0.108142  \nB00HEFIHJU  0.102681 -0.050824  \nB00M32N0G4 -0.012474 -0.030780  \n\n[242411 rows x 240 columns]",
      "text/html": "<div>\n<style scoped>\n    .dataframe tbody tr th:only-of-type {\n        vertical-align: middle;\n    }\n\n    .dataframe tbody tr th {\n        vertical-align: top;\n    }\n\n    .dataframe thead th {\n        text-align: right;\n    }\n</style>\n<table border=\"1\" class=\"dataframe\">\n  <thead>\n    <tr style=\"text-align: right;\">\n      <th></th>\n      <th>0</th>\n      <th>1</th>\n      <th>2</th>\n      <th>3</th>\n      <th>4</th>\n      <th>5</th>\n      <th>6</th>\n      <th>7</th>\n      <th>8</th>\n      <th>9</th>\n      <th>...</th>\n      <th>230</th>\n      <th>231</th>\n      <th>232</th>\n      <th>233</th>\n      <th>234</th>\n      <th>235</th>\n      <th>236</th>\n      <th>237</th>\n      <th>238</th>\n      <th>239</th>\n    </tr>\n  </thead>\n  <tbody>\n    <tr>\n      <th>Women</th>\n      <td>-0.008189</td>\n      <td>0.022066</td>\n      <td>-0.026420</td>\n      <td>0.094180</td>\n      <td>-0.062463</td>\n      <td>-0.018453</td>\n      <td>-0.086254</td>\n      <td>0.094877</td>\n      <td>-0.074483</td>\n      <td>-0.057344</td>\n      <td>...</td>\n      <td>0.049633</td>\n      <td>0.079719</td>\n      <td>0.061025</td>\n      <td>0.039601</td>\n      <td>0.035771</td>\n      <td>0.017603</td>\n      <td>-0.005381</td>\n      <td>-0.062055</td>\n      <td>-0.041591</td>\n      <td>-0.055139</td>\n    </tr>\n    <tr>\n      <th>Men</th>\n      <td>-0.137466</td>\n      <td>-0.094954</td>\n      <td>0.053687</td>\n      <td>0.040817</td>\n      <td>-0.008410</td>\n      <td>-0.004553</td>\n      <td>0.033081</td>\n      <td>-0.062215</td>\n      <td>-0.023763</td>\n      <td>-0.034139</td>\n      <td>...</td>\n      <td>-0.101567</td>\n      <td>-0.049388</td>\n      <td>-0.049279</td>\n      <td>-0.058980</td>\n      <td>0.077279</td>\n      <td>-0.012332</td>\n      <td>-0.005987</td>\n      <td>-0.026190</td>\n      <td>-0.077885</td>\n      <td>-0.017687</td>\n    </tr>\n    <tr>\n      <th>B00SU52460</th>\n      <td>0.080074</td>\n      <td>-0.029241</td>\n      <td>-0.012169</td>\n      <td>0.001674</td>\n      <td>-0.127657</td>\n      <td>0.031498</td>\n      <td>0.066277</td>\n      <td>-0.010632</td>\n      <td>-0.067872</td>\n      <td>-0.003321</td>\n      <td>...</td>\n      <td>-0.011278</td>\n      <td>-0.006868</td>\n      <td>0.028322</td>\n      <td>0.013549</td>\n      <td>0.053158</td>\n      <td>0.032340</td>\n      <td>0.044718</td>\n      <td>-0.016185</td>\n      <td>0.061387</td>\n      <td>-0.001913</td>\n    </tr>\n    <tr>\n      <th>B00STBRT9M</th>\n      <td>0.006809</td>\n      <td>-0.095584</td>\n      <td>-0.066293</td>\n      <td>-0.048665</td>\n      <td>0.012165</td>\n      <td>-0.019132</td>\n      <td>-0.095805</td>\n      <td>0.072027</td>\n      <td>-0.033602</td>\n      <td>0.014023</td>\n      <td>...</td>\n      <td>0.022977</td>\n      <td>0.060151</td>\n      <td>-0.096941</td>\n      <td>0.111090</td>\n      <td>-0.058104</td>\n      <td>-0.024142</td>\n      <td>-0.084117</td>\n      <td>0.068409</td>\n      <td>0.113990</td>\n      <td>-0.040187</td>\n    </tr>\n    <tr>\n      <th>B00SU5244M</th>\n      <td>-0.163030</td>\n      <td>-0.030770</td>\n      <td>-0.039648</td>\n      <td>0.183576</td>\n      <td>-0.081303</td>\n      <td>-0.031919</td>\n      <td>0.066622</td>\n      <td>0.044468</td>\n      <td>0.017939</td>\n      <td>0.003620</td>\n      <td>...</td>\n      <td>0.044207</td>\n      <td>-0.026794</td>\n      <td>-0.051534</td>\n      <td>0.063143</td>\n      <td>-0.124244</td>\n      <td>-0.021593</td>\n      <td>-0.020266</td>\n      <td>0.043678</td>\n      <td>-0.061697</td>\n      <td>-0.026006</td>\n    </tr>\n    <tr>\n      <th>...</th>\n      <td>...</td>\n      <td>...</td>\n      <td>...</td>\n      <td>...</td>\n      <td>...</td>\n      <td>...</td>\n      <td>...</td>\n      <td>...</td>\n      <td>...</td>\n      <td>...</td>\n      <td>...</td>\n      <td>...</td>\n      <td>...</td>\n      <td>...</td>\n      <td>...</td>\n      <td>...</td>\n      <td>...</td>\n      <td>...</td>\n      <td>...</td>\n      <td>...</td>\n      <td>...</td>\n    </tr>\n    <tr>\n      <th>B01D2H01KG</th>\n      <td>0.050055</td>\n      <td>-0.036643</td>\n      <td>-0.148640</td>\n      <td>-0.049264</td>\n      <td>0.035507</td>\n      <td>-0.154216</td>\n      <td>0.063264</td>\n      <td>-0.063919</td>\n      <td>0.007130</td>\n      <td>0.086678</td>\n      <td>...</td>\n      <td>0.069495</td>\n      <td>0.052381</td>\n      <td>-0.075635</td>\n      <td>0.052993</td>\n      <td>-0.032045</td>\n      <td>-0.011593</td>\n      <td>-0.033095</td>\n      <td>0.025782</td>\n      <td>-0.087101</td>\n      <td>-0.031072</td>\n    </tr>\n    <tr>\n      <th>B005AR7V1Y</th>\n      <td>-0.064120</td>\n      <td>-0.114724</td>\n      <td>0.044103</td>\n      <td>-0.058813</td>\n      <td>-0.012883</td>\n      <td>-0.075538</td>\n      <td>-0.035813</td>\n      <td>-0.038642</td>\n      <td>-0.020050</td>\n      <td>0.013223</td>\n      <td>...</td>\n      <td>-0.004069</td>\n      <td>0.034750</td>\n      <td>0.012952</td>\n      <td>0.113518</td>\n      <td>-0.022946</td>\n      <td>-0.095672</td>\n      <td>-0.045898</td>\n      <td>0.020638</td>\n      <td>-0.003015</td>\n      <td>-0.032189</td>\n    </tr>\n    <tr>\n      <th>B00K59XJ40</th>\n      <td>-0.007995</td>\n      <td>0.010419</td>\n      <td>0.014158</td>\n      <td>0.027516</td>\n      <td>-0.011702</td>\n      <td>0.003093</td>\n      <td>-0.003959</td>\n      <td>-0.085708</td>\n      <td>-0.091460</td>\n      <td>0.061226</td>\n      <td>...</td>\n      <td>-0.038815</td>\n      <td>0.011818</td>\n      <td>0.032563</td>\n      <td>0.036898</td>\n      <td>0.072990</td>\n      <td>-0.032794</td>\n      <td>0.002982</td>\n      <td>-0.143381</td>\n      <td>0.034707</td>\n      <td>-0.108142</td>\n    </tr>\n    <tr>\n      <th>B00HEFIHJU</th>\n      <td>-0.075908</td>\n      <td>-0.026579</td>\n      <td>-0.027001</td>\n      <td>0.014267</td>\n      <td>-0.075832</td>\n      <td>-0.010865</td>\n      <td>-0.013595</td>\n      <td>-0.055790</td>\n      <td>-0.012770</td>\n      <td>-0.037490</td>\n      <td>...</td>\n      <td>0.023234</td>\n      <td>0.003851</td>\n      <td>0.076986</td>\n      <td>0.000565</td>\n      <td>-0.069062</td>\n      <td>-0.004645</td>\n      <td>0.098052</td>\n      <td>0.033378</td>\n      <td>0.102681</td>\n      <td>-0.050824</td>\n    </tr>\n    <tr>\n      <th>B00M32N0G4</th>\n      <td>-0.154940</td>\n      <td>0.044972</td>\n      <td>-0.040357</td>\n      <td>-0.050484</td>\n      <td>0.004282</td>\n      <td>-0.045062</td>\n      <td>-0.076283</td>\n      <td>-0.034372</td>\n      <td>-0.058239</td>\n      <td>0.066706</td>\n      <td>...</td>\n      <td>0.044806</td>\n      <td>-0.036805</td>\n      <td>-0.005097</td>\n      <td>0.099899</td>\n      <td>0.010955</td>\n      <td>-0.071643</td>\n      <td>-0.012375</td>\n      <td>0.041456</td>\n      <td>-0.012474</td>\n      <td>-0.030780</td>\n    </tr>\n  </tbody>\n</table>\n<p>242411 rows × 240 columns</p>\n</div>"
     },
     "execution_count": 13,
     "metadata": {},
     "output_type": "execute_result"
    }
   ],
   "source": [
    "word2vec_embeddings"
   ],
   "metadata": {
    "collapsed": false,
    "pycharm": {
     "name": "#%%\n"
    }
   }
  },
  {
   "cell_type": "code",
   "execution_count": 14,
   "outputs": [],
   "source": [
    "item_mapping = dataset.mapping()[3]\n",
    "word2vec_embeddings = word2vec_embeddings.rename(index=item_mapping)\n",
    "word2vec_embeddings = word2vec_embeddings.sort_index()"
   ],
   "metadata": {
    "collapsed": false,
    "pycharm": {
     "name": "#%%\n"
    }
   }
  },
  {
   "cell_type": "code",
   "execution_count": 15,
   "outputs": [
    {
     "name": "stdout",
     "output_type": "stream",
     "text": [
      "my new implementation\n"
     ]
    }
   ],
   "source": [
    "model = LightFM(\n",
    "    no_components=240,\n",
    "    loss='warp',\n",
    "    learning_schedule='adadelta',\n",
    "    epsilon=2.45e-07,\n",
    "    rho=0.958,\n",
    "    # item_alpha=5.97e-05,\n",
    "    user_alpha=2.06e-06,\n",
    "    max_sampled=9\n",
    ")"
   ],
   "metadata": {
    "collapsed": false,
    "pycharm": {
     "name": "#%%\n"
    }
   }
  },
  {
   "cell_type": "code",
   "execution_count": 16,
   "outputs": [
    {
     "name": "stderr",
     "output_type": "stream",
     "text": [
      "Epoch: 100%|██████████| 5/5 [02:43<00:00, 32.74s/it]\n",
      "Epoch: 100%|██████████| 20/20 [10:53<00:00, 32.66s/it]\n",
      "Epoch: 100%|██████████| 25/25 [11:23<00:00, 27.35s/it]\n",
      "Epoch: 100%|██████████| 200/200 [42:54<00:00, 12.87s/it] \n",
      "Epoch: 100%|██████████| 250/250 [38:35<00:00,  9.26s/it]\n",
      "Epoch: 100%|██████████| 500/500 [1:11:59<00:00,  8.64s/it]\n"
     ]
    }
   ],
   "source": [
    "num_epochs = [5, 25, 50, 250, 500, 1000]\n",
    "remaining = [num_epochs[0]] + [num_epochs[i] - num_epochs[i-1] for i in range(1, len(num_epochs))]\n",
    "for i, epochs in enumerate(num_epochs):\n",
    "    model.fit_partial(interactions, item_features=item_features, verbose=True, epochs=remaining[i], num_threads=8, word2vec_embeddings=word2vec_embeddings.values)\n",
    "    pickle.dump(model, open(f'/pio/scratch/1/i313924/data/lightfm_data/model_{epochs}_word2vec_categories_item_alpha_0.pkl', 'wb'), protocol=4)"
   ],
   "metadata": {
    "collapsed": false,
    "pycharm": {
     "name": "#%%\n"
    }
   }
  },
  {
   "cell_type": "code",
   "execution_count": 18,
   "outputs": [
    {
     "data": {
      "text/plain": "2"
     },
     "execution_count": 17,
     "metadata": {},
     "output_type": "execute_result"
    },
    {
     "data": {
      "text/plain": "2"
     },
     "execution_count": 18,
     "metadata": {},
     "output_type": "execute_result"
    }
   ],
   "source": [
    "2"
   ],
   "metadata": {
    "collapsed": false,
    "pycharm": {
     "name": "#%%\n"
    }
   }
  },
  {
   "cell_type": "code",
   "execution_count": 17,
   "outputs": [],
   "source": [],
   "metadata": {
    "collapsed": false,
    "pycharm": {
     "name": "#%%\n"
    }
   }
  }
 ],
 "metadata": {
  "kernelspec": {
   "display_name": "Python 3",
   "language": "python",
   "name": "python3"
  },
  "language_info": {
   "codemirror_mode": {
    "name": "ipython",
    "version": 2
   },
   "file_extension": ".py",
   "mimetype": "text/x-python",
   "name": "python",
   "nbconvert_exporter": "python",
   "pygments_lexer": "ipython2",
   "version": "2.7.6"
  }
 },
 "nbformat": 4,
 "nbformat_minor": 0
}